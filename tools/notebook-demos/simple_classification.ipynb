{
  "cells": [
    {
      "cell_type": "markdown",
      "metadata": {},
      "source": [
        "# Simple Rule-based Classification\n",
        "This is a toy example to illustrate inputs, rules, and evaluation."
      ]
    },
    {
      "cell_type": "code",
      "metadata": {},
      "execution_count": null,
      "outputs": [],
      "source": [
        "def classify(text):\n    text = text.lower()\n    if 'good' in text or 'great' in text:\n        return 'positive'\n    if 'bad' in text or 'terrible' in text:\n        return 'negative'\n    return 'neutral'"
      ]
    },
    {
      "cell_type": "code",
      "metadata": {},
      "execution_count": null,
      "outputs": [],
      "source": [
        "tests = [\n    ('good job', 'positive'),\n    ('bad day', 'negative'),\n    ('okay', 'neutral')\n]\ncorrect = sum(1 for t, y in tests if classify(t)==y)\nprint('accuracy:', correct/len(tests))"
      ]
    }
  ],
  "metadata": {
    "kernelspec": {
      "name": "python3",
      "language": "python",
      "display_name": "Python 3"
    },
    "language_info": {
      "name": "python"
    }
  },
  "nbformat": 4,
  "nbformat_minor": 5
}